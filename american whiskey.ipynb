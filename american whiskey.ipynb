{
 "cells": [
  {
   "cell_type": "code",
   "execution_count": 98,
   "metadata": {},
   "outputs": [],
   "source": [
    "import requests\n",
    "from bs4 import BeautifulSoup\n",
    "import re\n",
    "import pandas as pd"
   ]
  },
  {
   "cell_type": "code",
   "execution_count": 55,
   "metadata": {},
   "outputs": [],
   "source": [
    "def parse(link):\n",
    "    headers = {\"User-Agent\": \"Mozilla/5.0 (Windows NT 10.0; Win64; x64) AppleWebKit/537.36 (KHTML, like Gecko) Chrome/92.0.4515.131 Safari/537.36\"}\n",
    "    request = requests.get(link, headers = headers)\n",
    "    soup = BeautifulSoup(request.text, 'html.parser')\n",
    "    return soup"
   ]
  },
  {
   "cell_type": "code",
   "execution_count": 56,
   "metadata": {},
   "outputs": [
    {
     "name": "stdout",
     "output_type": "stream",
     "text": [
      "<Response [200]>\n",
      "printed\n",
      "i is 1\n",
      "<Response [200]>\n",
      "printed\n",
      "i is 2\n",
      "<Response [200]>\n",
      "printed\n",
      "i is 3\n"
     ]
    }
   ],
   "source": [
    "items = []\n",
    "for i in range(1, 4):\n",
    "    newRequest = parse(f\"https://www.thewhiskyexchange.com/c/33/american-whiskey?pg={i}&psize=24&sort=pasc\")\n",
    "    itemLinks = newRequest.findAll(\"a\", attrs={'href': re.compile(\"^/p/\")})\n",
    "    temp = \"\"\n",
    "    for item in itemLinks:\n",
    "        temp = \"https://www.thewhiskyexchange.com\" + item[\"href\"]\n",
    "        items.append(temp)"
   ]
  },
  {
   "cell_type": "code",
   "execution_count": 95,
   "metadata": {},
   "outputs": [
    {
     "name": "stdout",
     "output_type": "stream",
     "text": [
      "<Response [200]>\n",
      "printed\n",
      "<Response [200]>\n",
      "printed\n",
      "<Response [200]>\n",
      "printed\n",
      "<Response [200]>\n",
      "printed\n",
      "<Response [200]>\n",
      "printed\n",
      "<Response [200]>\n",
      "printed\n",
      "<Response [200]>\n",
      "printed\n",
      "<Response [200]>\n",
      "printed\n",
      "<Response [200]>\n",
      "printed\n",
      "<Response [200]>\n",
      "printed\n",
      "<Response [200]>\n",
      "printed\n",
      "<Response [200]>\n",
      "printed\n",
      "<Response [200]>\n",
      "printed\n",
      "<Response [200]>\n",
      "printed\n",
      "<Response [200]>\n",
      "printed\n",
      "<Response [200]>\n",
      "printed\n",
      "<Response [200]>\n",
      "printed\n",
      "<Response [200]>\n",
      "printed\n",
      "<Response [200]>\n",
      "printed\n",
      "<Response [200]>\n",
      "printed\n",
      "<Response [200]>\n",
      "printed\n",
      "<Response [200]>\n",
      "printed\n",
      "<Response [200]>\n",
      "printed\n",
      "<Response [200]>\n",
      "printed\n"
     ]
    }
   ],
   "source": [
    "whiskey = []\n",
    "for item in items[1:25]:\n",
    "    product = {}\n",
    "    newRequest = parse(item)\n",
    "    try:\n",
    "        newRequest.find(\"h1\", {'class': \"product-main__name\"}).span.decompose()\n",
    "    except:\n",
    "        pass\n",
    "    product[\"title\"] = newRequest.find(\"h1\", {'class': \"product-main__name\"}).text.strip()\n",
    "    try:\n",
    "        product[\"source\"] = newRequest.find(\"ul\", {'class': 'product-main__meta'}).text.strip()\n",
    "    except:\n",
    "        pass\n",
    "    product[\"desc\"] = newRequest.find('div', {'class': 'product-main__description'}).text.strip() \n",
    "    try:\n",
    "        product[\"ratings_count\"] = re.search(\"\\d+\\s\", newRequest.find(\"span\", {'class': 'review-overview__count'}).text.strip()).group().strip()\n",
    "    except:\n",
    "        None\n",
    "        \n",
    "    whiskey.append(product)"
   ]
  },
  {
   "cell_type": "code",
   "execution_count": 101,
   "metadata": {},
   "outputs": [],
   "source": [
    "whiskeyDF = pd.DataFrame(whiskey)"
   ]
  },
  {
   "cell_type": "code",
   "execution_count": 106,
   "metadata": {},
   "outputs": [
    {
     "name": "stdout",
     "output_type": "stream",
     "text": [
      "Saved\n"
     ]
    }
   ],
   "source": [
    "whiskeyDF.to_csv(\"american-whiskey.csv\", index = False)\n",
    "print(\"Saved\")"
   ]
  },
  {
   "cell_type": "code",
   "execution_count": null,
   "metadata": {},
   "outputs": [],
   "source": []
  }
 ],
 "metadata": {
  "kernelspec": {
   "display_name": "Python 3",
   "language": "python",
   "name": "python3"
  },
  "language_info": {
   "codemirror_mode": {
    "name": "ipython",
    "version": 3
   },
   "file_extension": ".py",
   "mimetype": "text/x-python",
   "name": "python",
   "nbconvert_exporter": "python",
   "pygments_lexer": "ipython3",
   "version": "3.8.3"
  }
 },
 "nbformat": 4,
 "nbformat_minor": 4
}
